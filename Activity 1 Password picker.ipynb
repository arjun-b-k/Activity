{
 "cells": [
  {
   "cell_type": "code",
   "execution_count": 1,
   "id": "253582ee",
   "metadata": {},
   "outputs": [
    {
     "name": "stdout",
     "output_type": "stream",
     "text": [
      "Welcome to Password Picker\n",
      "\n",
      "The Secured Password is: beautifulKerala54-\n"
     ]
    }
   ],
   "source": [
    "# passwrd picker\n",
    "import random \n",
    "adjective_list=['adorable','beautiful','clean','drab','elegant','fancy','glamorous','handsome','long','magnificent','plain','quaint','sparkling','ugliest','unsightly']\n",
    "noun_list=['London','Paris','France','Tiger','Cat','Dog','Bill Gates','America','Ronaldo','Kerala','India','Blue','White','Tree','Hummingbird','China','Japan','King']\n",
    "number_list=list(range(0,101))\n",
    "punctuation_list=['!','@','#','$','%','&',';',':','-','*']\n",
    "\n",
    "adj=random.choice(adjective_list)\n",
    "noun=random.choice(noun_list)\n",
    "number=str(random.choice(number_list))\n",
    "punct=random.choice(punctuation_list)\n",
    "\n",
    "password=adj+noun+number+punct\n",
    "\n",
    "print(\"Welcome to Password Picker\\n\")\n",
    "print(\"The Secured Password is:\",password)"
   ]
  },
  {
   "cell_type": "code",
   "execution_count": null,
   "id": "aa497984",
   "metadata": {},
   "outputs": [],
   "source": []
  }
 ],
 "metadata": {
  "kernelspec": {
   "display_name": "Python 3",
   "language": "python",
   "name": "python3"
  },
  "language_info": {
   "codemirror_mode": {
    "name": "ipython",
    "version": 3
   },
   "file_extension": ".py",
   "mimetype": "text/x-python",
   "name": "python",
   "nbconvert_exporter": "python",
   "pygments_lexer": "ipython3",
   "version": "3.8.8"
  }
 },
 "nbformat": 4,
 "nbformat_minor": 5
}
